{
 "cells": [
  {
   "cell_type": "code",
   "execution_count": 1,
   "id": "202d9300-ffee-42ed-92f3-6dd5097c245b",
   "metadata": {},
   "outputs": [],
   "source": [
    "import os\n",
    "os.environ['KMP_DUPLICATE_LIB_OK']='True'\n",
    "import numpy as np\n",
    "import pandas as pd"
   ]
  },
  {
   "cell_type": "code",
   "execution_count": 2,
   "id": "51960479-dbc9-4608-a06a-0ed1cf54ab34",
   "metadata": {},
   "outputs": [
    {
     "data": {
      "text/html": [
       "<div>\n",
       "<style scoped>\n",
       "    .dataframe tbody tr th:only-of-type {\n",
       "        vertical-align: middle;\n",
       "    }\n",
       "\n",
       "    .dataframe tbody tr th {\n",
       "        vertical-align: top;\n",
       "    }\n",
       "\n",
       "    .dataframe thead th {\n",
       "        text-align: right;\n",
       "    }\n",
       "</style>\n",
       "<table border=\"1\" class=\"dataframe\">\n",
       "  <thead>\n",
       "    <tr style=\"text-align: right;\">\n",
       "      <th></th>\n",
       "      <th>text</th>\n",
       "      <th>intent</th>\n",
       "    </tr>\n",
       "  </thead>\n",
       "  <tbody>\n",
       "    <tr>\n",
       "      <th>NaN</th>\n",
       "      <td>0</td>\n",
       "      <td>1</td>\n",
       "    </tr>\n",
       "    <tr>\n",
       "      <th>0.0</th>\n",
       "      <td>what expression would i use to say i love you ...</td>\n",
       "      <td>translate</td>\n",
       "    </tr>\n",
       "    <tr>\n",
       "      <th>1.0</th>\n",
       "      <td>can you tell me how to say 'i do not speak muc...</td>\n",
       "      <td>translate</td>\n",
       "    </tr>\n",
       "    <tr>\n",
       "      <th>2.0</th>\n",
       "      <td>what is the equivalent of, 'life is good' in f...</td>\n",
       "      <td>translate</td>\n",
       "    </tr>\n",
       "    <tr>\n",
       "      <th>3.0</th>\n",
       "      <td>tell me how to say, 'it is a beautiful morning...</td>\n",
       "      <td>translate</td>\n",
       "    </tr>\n",
       "  </tbody>\n",
       "</table>\n",
       "</div>"
      ],
      "text/plain": [
       "                                                  text     intent\n",
       "NaN                                                  0          1\n",
       "0.0  what expression would i use to say i love you ...  translate\n",
       "1.0  can you tell me how to say 'i do not speak muc...  translate\n",
       "2.0  what is the equivalent of, 'life is good' in f...  translate\n",
       "3.0  tell me how to say, 'it is a beautiful morning...  translate"
      ]
     },
     "execution_count": 2,
     "metadata": {},
     "output_type": "execute_result"
    }
   ],
   "source": [
    "train_df = pd.read_csv(\"training_data.csv\", names=[\"text\",\"intent\"])\n",
    "test_df = pd.read_csv(\"testing_data.csv\", names=[\"text\",\"intent\"])\n",
    "val_df = pd.read_csv(\"validation_data.csv\", names=[\"text\",\"intent\"])\n",
    "train_df.head()"
   ]
  },
  {
   "cell_type": "code",
   "execution_count": 3,
   "id": "6e177e77-9a2a-444f-b5ca-75ca0daaa33e",
   "metadata": {},
   "outputs": [],
   "source": [
    "import tensorflow as tf\n",
    "from sklearn.model_selection import train_test_split\n",
    "# Shuffle the training DataFrame\n",
    "train_df_shuffled = train_df.sample(frac=1).reset_index(drop=True)"
   ]
  },
  {
   "cell_type": "code",
   "execution_count": 4,
   "id": "1b885801-e79d-4822-ae39-18eb2fd58157",
   "metadata": {},
   "outputs": [],
   "source": [
    "# Tokenize text data\n",
    "tokenizer = tf.keras.preprocessing.text.Tokenizer()\n",
    "tokenizer.fit_on_texts(train_df_shuffled['text'])"
   ]
  },
  {
   "cell_type": "code",
   "execution_count": 5,
   "id": "e0b401cb-71ea-4eac-accb-253c386380bd",
   "metadata": {},
   "outputs": [],
   "source": [
    "# Tokenize training text data\n",
    "train_sequences = tokenizer.texts_to_sequences(train_df_shuffled['text'])\n",
    "\n",
    "# Tokenize validation text data\n",
    "val_sequences = tokenizer.texts_to_sequences(val_df['text'])\n",
    "\n",
    "# Tokenize testing text data\n",
    "test_sequences = tokenizer.texts_to_sequences(test_df['text'])"
   ]
  },
  {
   "cell_type": "code",
   "execution_count": 13,
   "id": "48e057a7-6c39-4681-8e79-732a303c223a",
   "metadata": {},
   "outputs": [
    {
     "data": {
      "text/plain": [
       "[309, 4, 442, 361, 7, 301, 1083, 43, 9]"
      ]
     },
     "execution_count": 13,
     "metadata": {},
     "output_type": "execute_result"
    }
   ],
   "source": [
    "train_sequences[0]"
   ]
  },
  {
   "cell_type": "code",
   "execution_count": 14,
   "id": "1e30f466-4ce0-49aa-b065-342bb5c11a3d",
   "metadata": {},
   "outputs": [
    {
     "data": {
      "text/plain": [
       "'share the nutrition info for french fries with me'"
      ]
     },
     "execution_count": 14,
     "metadata": {},
     "output_type": "execute_result"
    }
   ],
   "source": [
    "train_df_shuffled['text'][0]"
   ]
  },
  {
   "cell_type": "code",
   "execution_count": 11,
   "id": "72d8e9e8-c1ce-4a97-82eb-4467993eef6c",
   "metadata": {},
   "outputs": [],
   "source": [
    "# Pad sequences to ensure uniform length\n",
    "max_length = max(len(seq) for seq in train_sequences + val_sequences + test_sequences)\n",
    "train_padded_sequences = tf.keras.preprocessing.sequence.pad_sequences(train_sequences, maxlen=max_length, padding='post')\n",
    "val_padded_sequences = tf.keras.preprocessing.sequence.pad_sequences(val_sequences, maxlen=max_length, padding='post')\n",
    "test_padded_sequences = tf.keras.preprocessing.sequence.pad_sequences(test_sequences, maxlen=max_length, padding='post')"
   ]
  },
  {
   "cell_type": "code",
   "execution_count": 12,
   "id": "cdef3c7a-8882-4330-9497-4e18e2f48f92",
   "metadata": {},
   "outputs": [
    {
     "data": {
      "text/plain": [
       "array([ 309,    4,  442,  361,    7,  301, 1083,   43,    9,    0,    0,\n",
       "          0,    0,    0,    0,    0,    0,    0,    0,    0,    0,    0,\n",
       "          0,    0,    0,    0,    0,    0])"
      ]
     },
     "execution_count": 12,
     "metadata": {},
     "output_type": "execute_result"
    }
   ],
   "source": [
    "train_padded_sequences[0]"
   ]
  },
  {
   "cell_type": "code",
   "execution_count": 15,
   "id": "154885e2-5aca-4060-acd3-2f27aabf4af2",
   "metadata": {},
   "outputs": [],
   "source": [
    "# Convert intents to unique integer labels\n",
    "intent_label_mapping = {label: idx for idx, label in enumerate(train_df_shuffled['intent'].unique())}\n",
    "train_df_shuffled['intent_labels'] = train_df_shuffled['intent'].map(intent_label_mapping)\n",
    "val_df['intent_labels'] = val_df['intent'].map(intent_label_mapping)\n",
    "test_df['intent_labels'] = test_df['intent'].map(intent_label_mapping)"
   ]
  },
  {
   "cell_type": "code",
   "execution_count": 17,
   "id": "879114b9-9395-4b84-b55b-0709a34de70a",
   "metadata": {},
   "outputs": [
    {
     "data": {
      "text/html": [
       "<div>\n",
       "<style scoped>\n",
       "    .dataframe tbody tr th:only-of-type {\n",
       "        vertical-align: middle;\n",
       "    }\n",
       "\n",
       "    .dataframe tbody tr th {\n",
       "        vertical-align: top;\n",
       "    }\n",
       "\n",
       "    .dataframe thead th {\n",
       "        text-align: right;\n",
       "    }\n",
       "</style>\n",
       "<table border=\"1\" class=\"dataframe\">\n",
       "  <thead>\n",
       "    <tr style=\"text-align: right;\">\n",
       "      <th></th>\n",
       "      <th>text</th>\n",
       "      <th>intent</th>\n",
       "      <th>intent_labels</th>\n",
       "    </tr>\n",
       "  </thead>\n",
       "  <tbody>\n",
       "    <tr>\n",
       "      <th>1676</th>\n",
       "      <td>lets go threw some trivia on sports</td>\n",
       "      <td>fun_fact</td>\n",
       "      <td>48</td>\n",
       "    </tr>\n",
       "  </tbody>\n",
       "</table>\n",
       "</div>"
      ],
      "text/plain": [
       "                                     text    intent  intent_labels\n",
       "1676  lets go threw some trivia on sports  fun_fact             48"
      ]
     },
     "execution_count": 17,
     "metadata": {},
     "output_type": "execute_result"
    }
   ],
   "source": [
    "train_df_shuffled.sample()"
   ]
  },
  {
   "cell_type": "code",
   "execution_count": 19,
   "id": "598290a2-2104-4390-9bc4-18f7563e3478",
   "metadata": {},
   "outputs": [],
   "source": [
    "# Convert integer labels to one-hot encoding\n",
    "num_intents = len(intent_label_mapping)\n",
    "train_intent_labels = tf.keras.utils.to_categorical(train_df_shuffled['intent_labels'], num_classes=num_intents)\n",
    "val_intent_labels = tf.keras.utils.to_categorical(val_df['intent_labels'], num_classes=num_intents)\n",
    "test_intent_labels = tf.keras.utils.to_categorical(test_df['intent_labels'], num_classes=num_intents)"
   ]
  },
  {
   "cell_type": "code",
   "execution_count": 22,
   "id": "41340e9e-e546-46d2-bd0a-ffc33d068366",
   "metadata": {},
   "outputs": [
    {
     "data": {
      "text/plain": [
       "(array([1., 0., 0., 0., 0., 0., 0., 0., 0., 0., 0., 0., 0., 0., 0., 0., 0.,\n",
       "        0., 0., 0., 0., 0., 0., 0., 0., 0., 0., 0., 0., 0., 0., 0., 0., 0.,\n",
       "        0., 0., 0., 0., 0., 0., 0., 0., 0., 0., 0., 0., 0., 0., 0., 0., 0.,\n",
       "        0., 0., 0., 0., 0., 0., 0., 0., 0., 0., 0., 0., 0., 0., 0., 0., 0.,\n",
       "        0., 0., 0., 0., 0., 0., 0., 0., 0., 0., 0., 0., 0., 0., 0., 0., 0.,\n",
       "        0., 0., 0., 0., 0., 0., 0., 0., 0., 0., 0., 0., 0., 0., 0., 0., 0.,\n",
       "        0., 0., 0., 0., 0., 0., 0., 0., 0., 0., 0., 0., 0., 0., 0., 0., 0.,\n",
       "        0., 0., 0., 0., 0., 0., 0., 0., 0., 0., 0., 0., 0., 0., 0., 0., 0.,\n",
       "        0., 0., 0., 0., 0., 0., 0., 0., 0., 0., 0., 0., 0., 0., 0.],\n",
       "       dtype=float32),\n",
       " 15001)"
      ]
     },
     "execution_count": 22,
     "metadata": {},
     "output_type": "execute_result"
    }
   ],
   "source": [
    "train_intent_labels[0], len(train_intent_labels)"
   ]
  },
  {
   "cell_type": "code",
   "execution_count": 24,
   "id": "d7fa40ef-805a-47db-bda8-3588cebc6945",
   "metadata": {},
   "outputs": [],
   "source": [
    "# Define RNN model with additional layers and increased units in the embedding layer\n",
    "model = tf.keras.Sequential([\n",
    "    tf.keras.layers.Embedding(input_dim=len(tokenizer.word_index)+1, output_dim=200, input_length=max_length),\n",
    "    tf.keras.layers.LSTM(128, return_sequences=True),  # Adding another LSTM layer with return_sequences=True\n",
    "    tf.keras.layers.LSTM(64),  # Adding another LSTM layer\n",
    "    tf.keras.layers.Dense(128, activation='relu'),  # Adding a Dense hidden layer\n",
    "    tf.keras.layers.Dense(num_intents, activation='softmax')  # Output layer with softmax activation\n",
    "])"
   ]
  },
  {
   "cell_type": "code",
   "execution_count": 25,
   "id": "c35570c4-09bb-45c1-a2b5-4b021b00ae0a",
   "metadata": {},
   "outputs": [],
   "source": [
    "model.compile(optimizer='adam', loss='categorical_crossentropy', metrics=['accuracy'])"
   ]
  },
  {
   "cell_type": "code",
   "execution_count": 26,
   "id": "2e2bd8bc-48ad-4b28-8bd1-e60295e43a7e",
   "metadata": {},
   "outputs": [
    {
     "name": "stdout",
     "output_type": "stream",
     "text": [
      "Epoch 1/50\n",
      "469/469 [==============================] - 31s 54ms/step - loss: 4.5527 - accuracy: 0.0213 - val_loss: 3.8022 - val_accuracy: 0.0580\n",
      "Epoch 2/50\n",
      "469/469 [==============================] - 28s 60ms/step - loss: 3.1555 - accuracy: 0.1147 - val_loss: 2.7402 - val_accuracy: 0.2079\n",
      "Epoch 3/50\n",
      "469/469 [==============================] - 26s 55ms/step - loss: 2.1805 - accuracy: 0.3037 - val_loss: 2.1629 - val_accuracy: 0.3742\n",
      "Epoch 4/50\n",
      "469/469 [==============================] - 27s 58ms/step - loss: 1.4296 - accuracy: 0.5425 - val_loss: 1.6861 - val_accuracy: 0.5698\n",
      "Epoch 5/50\n",
      "469/469 [==============================] - 27s 57ms/step - loss: 0.9383 - accuracy: 0.7128 - val_loss: 1.5025 - val_accuracy: 0.6538\n",
      "Epoch 6/50\n",
      "469/469 [==============================] - 25s 54ms/step - loss: 0.6213 - accuracy: 0.8279 - val_loss: 1.4401 - val_accuracy: 0.7128\n",
      "Epoch 7/50\n",
      "469/469 [==============================] - 26s 55ms/step - loss: 0.4522 - accuracy: 0.8768 - val_loss: 1.4231 - val_accuracy: 0.7414\n",
      "Epoch 8/50\n",
      "469/469 [==============================] - 28s 60ms/step - loss: 0.3363 - accuracy: 0.9096 - val_loss: 1.3291 - val_accuracy: 0.7747\n",
      "Epoch 9/50\n",
      "469/469 [==============================] - 29s 62ms/step - loss: 0.2568 - accuracy: 0.9322 - val_loss: 1.3297 - val_accuracy: 0.7734\n",
      "Epoch 10/50\n",
      "469/469 [==============================] - 28s 61ms/step - loss: 0.2205 - accuracy: 0.9399 - val_loss: 1.4180 - val_accuracy: 0.7711\n",
      "Epoch 11/50\n",
      "469/469 [==============================] - 28s 61ms/step - loss: 0.1751 - accuracy: 0.9529 - val_loss: 1.3582 - val_accuracy: 0.7901\n",
      "Epoch 12/50\n",
      "469/469 [==============================] - 26s 56ms/step - loss: 0.1434 - accuracy: 0.9626 - val_loss: 1.3490 - val_accuracy: 0.7837\n",
      "Epoch 13/50\n",
      "469/469 [==============================] - 27s 59ms/step - loss: 0.1366 - accuracy: 0.9636 - val_loss: 1.3951 - val_accuracy: 0.7987\n",
      "Epoch 14/50\n",
      "469/469 [==============================] - 28s 60ms/step - loss: 0.1183 - accuracy: 0.9671 - val_loss: 1.4009 - val_accuracy: 0.8001\n",
      "Epoch 15/50\n",
      "469/469 [==============================] - 29s 61ms/step - loss: 0.1060 - accuracy: 0.9699 - val_loss: 1.4368 - val_accuracy: 0.8007\n",
      "Epoch 16/50\n",
      "469/469 [==============================] - 26s 55ms/step - loss: 0.1013 - accuracy: 0.9708 - val_loss: 1.3626 - val_accuracy: 0.8277\n",
      "Epoch 17/50\n",
      "469/469 [==============================] - 26s 55ms/step - loss: 0.0664 - accuracy: 0.9823 - val_loss: 1.4150 - val_accuracy: 0.8081\n",
      "Epoch 18/50\n",
      "469/469 [==============================] - 26s 56ms/step - loss: 0.0719 - accuracy: 0.9797 - val_loss: 1.4363 - val_accuracy: 0.8047\n",
      "Epoch 19/50\n",
      "469/469 [==============================] - 26s 55ms/step - loss: 0.0801 - accuracy: 0.9775 - val_loss: 1.3957 - val_accuracy: 0.8274\n",
      "Epoch 20/50\n",
      "469/469 [==============================] - 26s 56ms/step - loss: 0.0669 - accuracy: 0.9823 - val_loss: 1.4399 - val_accuracy: 0.8207\n",
      "Epoch 21/50\n",
      "469/469 [==============================] - 25s 53ms/step - loss: 0.0437 - accuracy: 0.9885 - val_loss: 1.3772 - val_accuracy: 0.8351\n",
      "Epoch 22/50\n",
      "469/469 [==============================] - 23s 50ms/step - loss: 0.0575 - accuracy: 0.9836 - val_loss: 1.4796 - val_accuracy: 0.8177\n",
      "Epoch 23/50\n",
      "469/469 [==============================] - 25s 54ms/step - loss: 0.0508 - accuracy: 0.9847 - val_loss: 1.4822 - val_accuracy: 0.8134\n",
      "Epoch 24/50\n",
      "469/469 [==============================] - 25s 54ms/step - loss: 0.0569 - accuracy: 0.9835 - val_loss: 1.4555 - val_accuracy: 0.8157\n",
      "Epoch 25/50\n",
      "469/469 [==============================] - 25s 54ms/step - loss: 0.0393 - accuracy: 0.9889 - val_loss: 1.4746 - val_accuracy: 0.8314\n",
      "Epoch 26/50\n",
      "469/469 [==============================] - 25s 53ms/step - loss: 0.0319 - accuracy: 0.9911 - val_loss: 1.4851 - val_accuracy: 0.8211\n",
      "Epoch 27/50\n",
      "469/469 [==============================] - 25s 53ms/step - loss: 0.0279 - accuracy: 0.9926 - val_loss: 1.5999 - val_accuracy: 0.8141\n",
      "Epoch 28/50\n",
      "469/469 [==============================] - 25s 54ms/step - loss: 0.0386 - accuracy: 0.9898 - val_loss: 1.4646 - val_accuracy: 0.8174\n",
      "Epoch 29/50\n",
      "469/469 [==============================] - 25s 52ms/step - loss: 0.0473 - accuracy: 0.9876 - val_loss: 1.4431 - val_accuracy: 0.8264\n",
      "Epoch 30/50\n",
      "469/469 [==============================] - 25s 53ms/step - loss: 0.0368 - accuracy: 0.9889 - val_loss: 1.4907 - val_accuracy: 0.8251\n",
      "Epoch 31/50\n",
      "469/469 [==============================] - 24s 52ms/step - loss: 0.0313 - accuracy: 0.9917 - val_loss: 1.5605 - val_accuracy: 0.8174\n",
      "Epoch 32/50\n",
      "469/469 [==============================] - 25s 53ms/step - loss: 0.0235 - accuracy: 0.9935 - val_loss: 1.5325 - val_accuracy: 0.8307\n",
      "Epoch 33/50\n",
      "469/469 [==============================] - 24s 52ms/step - loss: 0.0245 - accuracy: 0.9933 - val_loss: 1.5105 - val_accuracy: 0.8367\n",
      "Epoch 34/50\n",
      "469/469 [==============================] - 25s 53ms/step - loss: 0.0173 - accuracy: 0.9957 - val_loss: 1.5950 - val_accuracy: 0.8277\n",
      "Epoch 35/50\n",
      "469/469 [==============================] - 25s 54ms/step - loss: 0.0273 - accuracy: 0.9929 - val_loss: 1.6383 - val_accuracy: 0.8211\n",
      "Epoch 36/50\n",
      "469/469 [==============================] - 26s 55ms/step - loss: 0.0413 - accuracy: 0.9885 - val_loss: 1.5106 - val_accuracy: 0.8281\n",
      "Epoch 37/50\n",
      "469/469 [==============================] - 31s 66ms/step - loss: 0.0237 - accuracy: 0.9925 - val_loss: 1.5582 - val_accuracy: 0.8377\n",
      "Epoch 38/50\n",
      "469/469 [==============================] - 28s 60ms/step - loss: 0.0167 - accuracy: 0.9953 - val_loss: 1.6411 - val_accuracy: 0.8197\n",
      "Epoch 39/50\n",
      "469/469 [==============================] - 25s 54ms/step - loss: 0.0200 - accuracy: 0.9947 - val_loss: 1.5776 - val_accuracy: 0.8314\n",
      "Epoch 40/50\n",
      "469/469 [==============================] - 26s 56ms/step - loss: 0.0178 - accuracy: 0.9945 - val_loss: 1.6211 - val_accuracy: 0.8401\n",
      "Epoch 41/50\n",
      "469/469 [==============================] - 22s 47ms/step - loss: 0.0148 - accuracy: 0.9958 - val_loss: 1.5640 - val_accuracy: 0.8351\n",
      "Epoch 42/50\n",
      "469/469 [==============================] - 23s 49ms/step - loss: 0.0095 - accuracy: 0.9975 - val_loss: 1.5498 - val_accuracy: 0.8364\n",
      "Epoch 43/50\n",
      "469/469 [==============================] - 21s 45ms/step - loss: 0.0131 - accuracy: 0.9961 - val_loss: 1.5742 - val_accuracy: 0.8271\n",
      "Epoch 44/50\n",
      "469/469 [==============================] - 22s 48ms/step - loss: 0.0200 - accuracy: 0.9949 - val_loss: 1.5825 - val_accuracy: 0.8207\n",
      "Epoch 45/50\n",
      "469/469 [==============================] - 22s 48ms/step - loss: 0.0251 - accuracy: 0.9927 - val_loss: 1.5368 - val_accuracy: 0.8207\n",
      "Epoch 46/50\n",
      "469/469 [==============================] - 29s 63ms/step - loss: 0.0269 - accuracy: 0.9919 - val_loss: 1.4774 - val_accuracy: 0.8357\n",
      "Epoch 47/50\n",
      "469/469 [==============================] - 21s 46ms/step - loss: 0.0122 - accuracy: 0.9963 - val_loss: 1.5280 - val_accuracy: 0.8351\n",
      "Epoch 48/50\n",
      "469/469 [==============================] - 23s 49ms/step - loss: 0.0159 - accuracy: 0.9952 - val_loss: 1.5209 - val_accuracy: 0.8434\n",
      "Epoch 49/50\n",
      "469/469 [==============================] - 23s 48ms/step - loss: 0.0121 - accuracy: 0.9969 - val_loss: 1.5330 - val_accuracy: 0.8424\n",
      "Epoch 50/50\n",
      "469/469 [==============================] - 21s 46ms/step - loss: 0.0148 - accuracy: 0.9959 - val_loss: 1.5065 - val_accuracy: 0.8411\n"
     ]
    },
    {
     "data": {
      "text/plain": [
       "<keras.callbacks.History at 0x1e51b29dc70>"
      ]
     },
     "execution_count": 26,
     "metadata": {},
     "output_type": "execute_result"
    }
   ],
   "source": [
    "# Train the model with validation data\n",
    "model.fit(train_padded_sequences, train_intent_labels, epochs=50, batch_size=32, validation_data=(val_padded_sequences, val_intent_labels))"
   ]
  },
  {
   "cell_type": "code",
   "execution_count": 27,
   "id": "8686c81b-f2ec-4865-b906-3a62bb4e0620",
   "metadata": {},
   "outputs": [
    {
     "name": "stdout",
     "output_type": "stream",
     "text": [
      "141/141 [==============================] - 2s 11ms/step - loss: 1.4283 - accuracy: 0.8574\n"
     ]
    },
    {
     "data": {
      "text/plain": [
       "[1.428333044052124, 0.8573650121688843]"
      ]
     },
     "execution_count": 27,
     "metadata": {},
     "output_type": "execute_result"
    }
   ],
   "source": [
    "model.evaluate(test_padded_sequences, test_intent_labels)"
   ]
  },
  {
   "cell_type": "code",
   "execution_count": 28,
   "id": "8d97cb8c-967f-4c7b-8d2b-c2324fb973b1",
   "metadata": {},
   "outputs": [],
   "source": [
    "# Test Accuracy= 85.73%\n",
    "# Training Data Accuracy= 99.59%"
   ]
  }
 ],
 "metadata": {
  "kernelspec": {
   "display_name": "Python 3 (ipykernel)",
   "language": "python",
   "name": "python3"
  },
  "language_info": {
   "codemirror_mode": {
    "name": "ipython",
    "version": 3
   },
   "file_extension": ".py",
   "mimetype": "text/x-python",
   "name": "python",
   "nbconvert_exporter": "python",
   "pygments_lexer": "ipython3",
   "version": "3.9.18"
  }
 },
 "nbformat": 4,
 "nbformat_minor": 5
}
